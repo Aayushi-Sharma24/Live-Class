{
 "cells": [
  {
   "cell_type": "code",
   "execution_count": null,
   "id": "dbfc0fc3",
   "metadata": {},
   "outputs": [],
   "source": [
    "import asyncio\n",
    "from autogen_agentchat.agents import AssistantAgent\n",
    "from autogen_agentchat.teams import SelectorGroupChat\n",
    "from autogen_ext.models.openai import OpenAIChatCompletionClient\n",
    "from autogen_agentchat.conditions import TextMentionTermination\n",
    "from dotenv import load_dotenv\n",
    "import os\n",
    "\n",
    "# Load API key\n",
    "load_dotenv()\n",
    "api_key = os.getenv('OPENAI_API_KEY')\n",
    "\n",
    "# Model client\n",
    "model_client = OpenAIChatCompletionClient(model='gpt-4o', api_key=api_key)"
   ]
  },
  {
   "cell_type": "code",
   "execution_count": null,
   "id": "49cf2ee5",
   "metadata": {},
   "outputs": [],
   "source": [
    "from autogen_agentchat.agents import AssistantAgent\n",
    "from autogen_agentchat.teams import SelectorGroupChat\n",
    "\n",
    "\n",
    "planning_agent = AssistantAgent(\n",
    "    name=\"PlanningAgent\",\n",
    "    description=\"An agent for planning tasks, this agent should be the first to engage when given a new task.\",\n",
    "    model_client=model_client,\n",
    "    system_message=\"\"\"\n",
    "    You are a planning agent.\n",
    "    Your job is to break down complex tasks into smaller, manageable subtasks.\n",
    "    Your team members are:\n",
    "        WebSearchAgent: Searches for information\n",
    "        DataAnalystAgent: Performs calculations\n",
    "\n",
    "    You only plan and delegate tasks - you do not execute them yourself.\n",
    "\n",
    "    When assigning tasks, use this format:\n",
    "    1. <agent> : <task>\n",
    "\n",
    "    After all tasks are complete, summarize the findings and end with \"TERMINATE\".\n",
    "    \"\"\",\n",
    ")\n"
   ]
  },
  {
   "cell_type": "code",
   "execution_count": null,
   "id": "38e3ed6b",
   "metadata": {},
   "outputs": [],
   "source": [
    "\n",
    "from dotenv import load_dotenv\n",
    "\n",
    "from langchain_community.utilities import GoogleSerperAPIWrapper\n",
    "\n",
    "from autogen_ext.tools.http import HttpTool\n",
    "\n",
    "\n",
    "os.environ['SERPER_API_KEY']='bead05022450578faa7498f4c90d85e534c372e0'\n",
    "\n",
    "\n",
    "search_tool_wrapper = GoogleSerperAPIWrapper(type='search')\n",
    "\n",
    "def search_web(query:str) ->str:\n",
    "    \"\"\"Search the web for the given query and return the results.\"\"\"\n",
    "    try:\n",
    "        results = search_tool_wrapper.run(query)\n",
    "        return results\n",
    "    except Exception as e:\n",
    "        print(f\"Error occurred while searching the web: {e}\")\n",
    "        return \"No results found.\"  \n",
    "\n"
   ]
  },
  {
   "cell_type": "code",
   "execution_count": null,
   "id": "c2d94924",
   "metadata": {},
   "outputs": [],
   "source": [
    "def search_web_tool(query:str)-> str:\n",
    "    # Simulate a web search\n",
    "    if \"2006-2007\" in query:\n",
    "        return \"\"\"Here are the total points scored by Miami Heat players in the 2006-2007 season:\n",
    "        Udonis Haslem: 844 points\n",
    "        Dwayne Wade: 1397 points\n",
    "        James Posey: 550 points\n",
    "        ...\n",
    "        \"\"\"\n",
    "    elif \"2007-2008\" in query:\n",
    "        return \"The number of total rebounds for Dwayne Wade in the Miami Heat season 2007-2008 is 214.\"\n",
    "    elif \"2008-2009\" in query:\n",
    "        return \"The number of total rebounds for Dwayne Wade in the Miami Heat season 2008-2009 is 398.\"\n",
    "    return \"No data found.\""
   ]
  },
  {
   "cell_type": "code",
   "execution_count": null,
   "id": "3fa88a85",
   "metadata": {},
   "outputs": [],
   "source": [
    "model_client = OpenAIChatCompletionClient(model='gpt-4o', api_key=api_key)"
   ]
  },
  {
   "cell_type": "code",
   "execution_count": null,
   "id": "c7b915e5",
   "metadata": {},
   "outputs": [],
   "source": [
    "web_search_agent = AssistantAgent(\n",
    "    name = 'WebSearchAgent',\n",
    "    description= 'An agent for searching the web for information.',\n",
    "    model_client=model_client,\n",
    "    tools = [search_web_tool],\n",
    "    reflect_on_tool_use=False,\n",
    "    system_message='''\n",
    "        You are a web search agent.\n",
    "        Your only tool is search_web - use it to find the information you need.\n",
    "\n",
    "        You make only one search call at a time.\n",
    "        \n",
    "        Once you have the results, you never do calculations or data analysis on them.\n",
    "    ''',\n",
    ")"
   ]
  },
  {
   "cell_type": "code",
   "execution_count": null,
   "id": "e8bed62e",
   "metadata": {},
   "outputs": [],
   "source": [
    "def percentage_change_tool(start:float, end:float) -> float:\n",
    "    # Calculate percentage change\n",
    "    if start == 0:\n",
    "        return 0\n",
    "    return ((end - start) / start) * 100\n",
    "\n"
   ]
  },
  {
   "cell_type": "code",
   "execution_count": null,
   "id": "17d9cdab",
   "metadata": {},
   "outputs": [],
   "source": [
    "\n",
    "data_analyst_agent = AssistantAgent(\n",
    "    name = 'DataAnalystAgent',\n",
    "    description= 'An agent for performing calculations and data analysis.',\n",
    "    model_client=model_client,\n",
    "    tools= [percentage_change_tool],\n",
    "    system_message='''\n",
    "        You are a data analyst agent.\n",
    "        Given the tasks you have been assigned, you should analyze the data and provide results using the tools provided (percentage_change_tool).\n",
    "\n",
    "        If you have not seen the data, ask for it.\n",
    "\n",
    "    ''',\n",
    ")"
   ]
  },
  {
   "cell_type": "markdown",
   "id": "069b0cc3",
   "metadata": {},
   "source": [
    "# Termination Condition"
   ]
  },
  {
   "cell_type": "code",
   "execution_count": null,
   "id": "5f3986ed",
   "metadata": {},
   "outputs": [],
   "source": [
    "from autogen_agentchat.conditions import TextMentionTermination,MaxMessageTermination\n",
    "\n",
    "text_mention_termination = TextMentionTermination('TERMINATE')\n",
    "max_message_termination = MaxMessageTermination(max_messages=20)\n",
    "combined_termination = text_mention_termination | max_message_termination"
   ]
  },
  {
   "cell_type": "code",
   "execution_count": null,
   "id": "abc3ba8d",
   "metadata": {},
   "outputs": [],
   "source": [
    "selector_prompt = '''\n",
    "Select an agent to perform the task.\n",
    "\n",
    "{roles}\n",
    "\n",
    "current conversation history :\n",
    "{history}\n",
    "\n",
    "Read the above conversation, then select an agent from {participants} to perform the next task.\n",
    "Make sure that the planning agent has assigned task before other agents start working.\n",
    "Only select one agent.\n",
    "'''"
   ]
  },
  {
   "cell_type": "code",
   "execution_count": null,
   "id": "a84d3897",
   "metadata": {},
   "outputs": [],
   "source": [
    "planning_agent.description"
   ]
  },
  {
   "cell_type": "code",
   "execution_count": null,
   "id": "634f432a",
   "metadata": {},
   "outputs": [],
   "source": [
    "selector_team = SelectorGroupChat(\n",
    "    participants=[planning_agent, web_search_agent, data_analyst_agent],\n",
    "    model_client=model_client,\n",
    "    termination_condition=combined_termination,\n",
    "    selector_prompt=selector_prompt,\n",
    "    allow_repeated_speaker=True)"
   ]
  },
  {
   "cell_type": "code",
   "execution_count": null,
   "id": "693ae483",
   "metadata": {},
   "outputs": [],
   "source": [
    "task = \"Who was the Miami Heat player with the highest point in the 2006-2007 season, and what was the percentage change in his total rebounds between the 2007-2008 and 2008-2009 seasons?\""
   ]
  },
  {
   "cell_type": "code",
   "execution_count": null,
   "id": "656b73d3",
   "metadata": {},
   "outputs": [],
   "source": [
    "from autogen_agentchat.ui import Console\n",
    "\n",
    "await Console(selector_team.run_stream(task=task))"
   ]
  },
  {
   "cell_type": "code",
   "execution_count": null,
   "id": "927dff7c",
   "metadata": {},
   "outputs": [],
   "source": []
  },
  {
   "cell_type": "code",
   "execution_count": null,
   "id": "11e663e5",
   "metadata": {},
   "outputs": [],
   "source": [
    "# With real web search\n",
    "\n",
    "\n",
    "from autogen_agentchat.ui import Console\n",
    "\n",
    "await Console(selector_team.run_stream(task=task))"
   ]
  },
  {
   "cell_type": "code",
   "execution_count": null,
   "id": "19a0cb10",
   "metadata": {},
   "outputs": [],
   "source": []
  },
  {
   "cell_type": "code",
   "execution_count": null,
   "id": "b21dfbaf",
   "metadata": {},
   "outputs": [],
   "source": [
    "state = await selector_team.save_state()"
   ]
  },
  {
   "cell_type": "code",
   "execution_count": null,
   "id": "3b953d88",
   "metadata": {},
   "outputs": [],
   "source": [
    "state\n"
   ]
  },
  {
   "cell_type": "code",
   "execution_count": null,
   "id": "ee77f4e9",
   "metadata": {},
   "outputs": [],
   "source": [
    "from autogen_agentchat.messages import BaseAgentEvent, BaseChatMessage\n",
    "from typing import Sequence\n",
    "\n",
    "def my_selector_fun(messages: Sequence[BaseAgentEvent | BaseChatMessage]):\n",
    "\n",
    "    if messages[-1].source != planning_agent.name:\n",
    "        return planning_agent.name\n",
    "    return None\n",
    "\n",
    "\n",
    "selector_team = SelectorGroupChat(\n",
    "    participants=[planning_agent, web_search_agent, data_analyst_agent],\n",
    "    model_client=model_client,\n",
    "    termination_condition=combined_termination,\n",
    "    selector_prompt=selector_prompt,\n",
    "    allow_repeated_speaker=True,\n",
    "    selector_func=my_selector_fun)"
   ]
  },
  {
   "cell_type": "code",
   "execution_count": 17,
   "id": "0bdeb09c",
   "metadata": {},
   "outputs": [
    {
     "name": "stdout",
     "output_type": "stream",
     "text": [
      "---------- TextMessage (user) ----------\n",
      "Who was the Miami Heat player with the highest point in the 2006-2007 season, and what was the percentage change in his total rebounds between the 2007-2008 and 2008-2009 seasons?\n",
      "---------- TextMessage (PlanningAgent) ----------\n",
      "To address your query, we need to follow these steps:\n",
      "\n",
      "1. Identify the Miami Heat player with the highest points in the 2006-2007 season.\n",
      "2. Determine this player's total rebounds in the 2007-2008 season.\n",
      "3. Determine this player's total rebounds in the 2008-2009 season.\n",
      "4. Calculate the percentage change in total rebounds between these two seasons.\n",
      "\n",
      "Let's delegate these tasks:\n",
      "\n",
      "1. WebSearchAgent: Identify the Miami Heat player with the most points in the 2006-2007 season.\n",
      "2. WebSearchAgent: Find the total rebounds for that player in the 2007-2008 season.\n",
      "3. WebSearchAgent: Find the total rebounds for that player in the 2008-2009 season.\n",
      "\n",
      "Once these details are collected:\n",
      "\n",
      "4. DataAnalystAgent: Calculate the percentage change in total rebounds between the 2007-2008 and 2008-2009 seasons.\n",
      "---------- ToolCallRequestEvent (WebSearchAgent) ----------\n",
      "[FunctionCall(id='call_N1OGGY7zJS1ZAQKQ9FzwKvGu', arguments='{\"query\":\"Miami Heat highest points scorer 2006-2007 season\"}', name='search_web_tool')]\n",
      "---------- ToolCallExecutionEvent (WebSearchAgent) ----------\n",
      "[FunctionExecutionResult(content='Here are the total points scored by Miami Heat players in the 2006-2007 season:\\n        Udonis Haslem: 844 points\\n        Dwayne Wade: 1397 points\\n        James Posey: 550 points\\n        ...\\n        ', name='search_web_tool', call_id='call_N1OGGY7zJS1ZAQKQ9FzwKvGu', is_error=False)]\n",
      "---------- ToolCallSummaryMessage (WebSearchAgent) ----------\n",
      "Here are the total points scored by Miami Heat players in the 2006-2007 season:\n",
      "        Udonis Haslem: 844 points\n",
      "        Dwayne Wade: 1397 points\n",
      "        James Posey: 550 points\n",
      "        ...\n",
      "        \n",
      "---------- TextMessage (PlanningAgent) ----------\n",
      "Dwyane Wade was the Miami Heat player with the most points in the 2006-2007 season. Let's proceed with the next steps:\n",
      "\n",
      "1. WebSearchAgent: Find Dwyane Wade's total rebounds in the 2007-2008 season.\n",
      "2. WebSearchAgent: Find Dwyane Wade's total rebounds in the 2008-2009 season.\n",
      "---------- ToolCallRequestEvent (WebSearchAgent) ----------\n",
      "[FunctionCall(id='call_HGNVrIsG7hiG6yddyXrMAeHS', arguments='{\"query\": \"Dwyane Wade total rebounds 2007-2008 season\"}', name='search_web_tool'), FunctionCall(id='call_Ntsa97ML3t5VWodLC7YoMknu', arguments='{\"query\": \"Dwyane Wade total rebounds 2008-2009 season\"}', name='search_web_tool')]\n",
      "---------- ToolCallExecutionEvent (WebSearchAgent) ----------\n",
      "[FunctionExecutionResult(content='The number of total rebounds for Dwayne Wade in the Miami Heat season 2007-2008 is 214.', name='search_web_tool', call_id='call_HGNVrIsG7hiG6yddyXrMAeHS', is_error=False), FunctionExecutionResult(content='The number of total rebounds for Dwayne Wade in the Miami Heat season 2008-2009 is 398.', name='search_web_tool', call_id='call_Ntsa97ML3t5VWodLC7YoMknu', is_error=False)]\n",
      "---------- ToolCallSummaryMessage (WebSearchAgent) ----------\n",
      "The number of total rebounds for Dwayne Wade in the Miami Heat season 2007-2008 is 214.\n",
      "The number of total rebounds for Dwayne Wade in the Miami Heat season 2008-2009 is 398.\n",
      "---------- TextMessage (PlanningAgent) ----------\n",
      "Great, now we have the necessary information. Let's proceed to calculate the percentage change in total rebounds.\n",
      "\n",
      "1. DataAnalystAgent: Calculate the percentage change in Dwyane Wade's total rebounds from the 2007-2008 season (214 rebounds) to the 2008-2009 season (398 rebounds).\n",
      "---------- ToolCallRequestEvent (DataAnalystAgent) ----------\n",
      "[FunctionCall(id='call_ifzABgTSAC6vCAoY9MYItciU', arguments='{\"start\":214,\"end\":398}', name='percentage_change_tool')]\n",
      "---------- ToolCallExecutionEvent (DataAnalystAgent) ----------\n",
      "[FunctionExecutionResult(content='85.98130841121495', name='percentage_change_tool', call_id='call_ifzABgTSAC6vCAoY9MYItciU', is_error=False)]\n",
      "---------- ToolCallSummaryMessage (DataAnalystAgent) ----------\n",
      "85.98130841121495\n",
      "---------- TextMessage (PlanningAgent) ----------\n",
      "The percentage change in Dwyane Wade's total rebounds from the 2007-2008 season to the 2008-2009 season is approximately 85.98%. \n",
      "\n",
      "In summary, Dwyane Wade was the top scorer for the Miami Heat in the 2006-2007 season, and his total rebounds increased by approximately 85.98% from the 2007-2008 season to the 2008-2009 season.\n",
      "\n",
      "TERMINATE\n"
     ]
    },
    {
     "data": {
      "text/plain": [
       "TaskResult(messages=[TextMessage(id='c5329421-955f-4c45-aae5-c043ceeaf71b', source='user', models_usage=None, metadata={}, created_at=datetime.datetime(2025, 7, 19, 3, 0, 53, 147954, tzinfo=datetime.timezone.utc), content='Who was the Miami Heat player with the highest point in the 2006-2007 season, and what was the percentage change in his total rebounds between the 2007-2008 and 2008-2009 seasons?', type='TextMessage'), TextMessage(id='c4795a65-7e77-4e88-a73d-6a3c22b9144c', source='PlanningAgent', models_usage=RequestUsage(prompt_tokens=161, completion_tokens=194), metadata={}, created_at=datetime.datetime(2025, 7, 19, 3, 0, 55, 864264, tzinfo=datetime.timezone.utc), content=\"To address your query, we need to follow these steps:\\n\\n1. Identify the Miami Heat player with the highest points in the 2006-2007 season.\\n2. Determine this player's total rebounds in the 2007-2008 season.\\n3. Determine this player's total rebounds in the 2008-2009 season.\\n4. Calculate the percentage change in total rebounds between these two seasons.\\n\\nLet's delegate these tasks:\\n\\n1. WebSearchAgent: Identify the Miami Heat player with the most points in the 2006-2007 season.\\n2. WebSearchAgent: Find the total rebounds for that player in the 2007-2008 season.\\n3. WebSearchAgent: Find the total rebounds for that player in the 2008-2009 season.\\n\\nOnce these details are collected:\\n\\n4. DataAnalystAgent: Calculate the percentage change in total rebounds between the 2007-2008 and 2008-2009 seasons.\", type='TextMessage'), ToolCallRequestEvent(id='034d574c-a1b3-4211-a070-34b44e793565', source='WebSearchAgent', models_usage=RequestUsage(prompt_tokens=348, completion_tokens=26), metadata={}, created_at=datetime.datetime(2025, 7, 19, 3, 0, 58, 979633, tzinfo=datetime.timezone.utc), content=[FunctionCall(id='call_N1OGGY7zJS1ZAQKQ9FzwKvGu', arguments='{\"query\":\"Miami Heat highest points scorer 2006-2007 season\"}', name='search_web_tool')], type='ToolCallRequestEvent'), ToolCallExecutionEvent(id='653d3f55-3f5e-4f4d-b3a3-31a73f5b4fc4', source='WebSearchAgent', models_usage=None, metadata={}, created_at=datetime.datetime(2025, 7, 19, 3, 0, 58, 981210, tzinfo=datetime.timezone.utc), content=[FunctionExecutionResult(content='Here are the total points scored by Miami Heat players in the 2006-2007 season:\\n        Udonis Haslem: 844 points\\n        Dwayne Wade: 1397 points\\n        James Posey: 550 points\\n        ...\\n        ', name='search_web_tool', call_id='call_N1OGGY7zJS1ZAQKQ9FzwKvGu', is_error=False)], type='ToolCallExecutionEvent'), ToolCallSummaryMessage(id='9b6341b0-9ef1-4f5f-9c9f-218f572bc5ea', source='WebSearchAgent', models_usage=None, metadata={}, created_at=datetime.datetime(2025, 7, 19, 3, 0, 58, 981349, tzinfo=datetime.timezone.utc), content='Here are the total points scored by Miami Heat players in the 2006-2007 season:\\n        Udonis Haslem: 844 points\\n        Dwayne Wade: 1397 points\\n        James Posey: 550 points\\n        ...\\n        ', type='ToolCallSummaryMessage', tool_calls=[FunctionCall(id='call_N1OGGY7zJS1ZAQKQ9FzwKvGu', arguments='{\"query\":\"Miami Heat highest points scorer 2006-2007 season\"}', name='search_web_tool')], results=[FunctionExecutionResult(content='Here are the total points scored by Miami Heat players in the 2006-2007 season:\\n        Udonis Haslem: 844 points\\n        Dwayne Wade: 1397 points\\n        James Posey: 550 points\\n        ...\\n        ', name='search_web_tool', call_id='call_N1OGGY7zJS1ZAQKQ9FzwKvGu', is_error=False)]), TextMessage(id='86fe4688-5550-4e2f-8dd5-d3b1fd71dbf5', source='PlanningAgent', models_usage=RequestUsage(prompt_tokens=420, completion_tokens=78), metadata={}, created_at=datetime.datetime(2025, 7, 19, 3, 1, 0, 879596, tzinfo=datetime.timezone.utc), content=\"Dwyane Wade was the Miami Heat player with the most points in the 2006-2007 season. Let's proceed with the next steps:\\n\\n1. WebSearchAgent: Find Dwyane Wade's total rebounds in the 2007-2008 season.\\n2. WebSearchAgent: Find Dwyane Wade's total rebounds in the 2008-2009 season.\", type='TextMessage'), ToolCallRequestEvent(id='0a2bc138-a513-4ee7-834c-0fe2a6a18968', source='WebSearchAgent', models_usage=RequestUsage(prompt_tokens=521, completion_tokens=70), metadata={}, created_at=datetime.datetime(2025, 7, 19, 3, 1, 3, 586585, tzinfo=datetime.timezone.utc), content=[FunctionCall(id='call_HGNVrIsG7hiG6yddyXrMAeHS', arguments='{\"query\": \"Dwyane Wade total rebounds 2007-2008 season\"}', name='search_web_tool'), FunctionCall(id='call_Ntsa97ML3t5VWodLC7YoMknu', arguments='{\"query\": \"Dwyane Wade total rebounds 2008-2009 season\"}', name='search_web_tool')], type='ToolCallRequestEvent'), ToolCallExecutionEvent(id='7a68f17a-3ec0-4604-8c73-e59f431319d5', source='WebSearchAgent', models_usage=None, metadata={}, created_at=datetime.datetime(2025, 7, 19, 3, 1, 3, 589819, tzinfo=datetime.timezone.utc), content=[FunctionExecutionResult(content='The number of total rebounds for Dwayne Wade in the Miami Heat season 2007-2008 is 214.', name='search_web_tool', call_id='call_HGNVrIsG7hiG6yddyXrMAeHS', is_error=False), FunctionExecutionResult(content='The number of total rebounds for Dwayne Wade in the Miami Heat season 2008-2009 is 398.', name='search_web_tool', call_id='call_Ntsa97ML3t5VWodLC7YoMknu', is_error=False)], type='ToolCallExecutionEvent'), ToolCallSummaryMessage(id='9223a951-935f-49dc-93a2-ff5323d5fd02', source='WebSearchAgent', models_usage=None, metadata={}, created_at=datetime.datetime(2025, 7, 19, 3, 1, 3, 590095, tzinfo=datetime.timezone.utc), content='The number of total rebounds for Dwayne Wade in the Miami Heat season 2007-2008 is 214.\\nThe number of total rebounds for Dwayne Wade in the Miami Heat season 2008-2009 is 398.', type='ToolCallSummaryMessage', tool_calls=[FunctionCall(id='call_HGNVrIsG7hiG6yddyXrMAeHS', arguments='{\"query\": \"Dwyane Wade total rebounds 2007-2008 season\"}', name='search_web_tool'), FunctionCall(id='call_Ntsa97ML3t5VWodLC7YoMknu', arguments='{\"query\": \"Dwyane Wade total rebounds 2008-2009 season\"}', name='search_web_tool')], results=[FunctionExecutionResult(content='The number of total rebounds for Dwayne Wade in the Miami Heat season 2007-2008 is 214.', name='search_web_tool', call_id='call_HGNVrIsG7hiG6yddyXrMAeHS', is_error=False), FunctionExecutionResult(content='The number of total rebounds for Dwayne Wade in the Miami Heat season 2008-2009 is 398.', name='search_web_tool', call_id='call_Ntsa97ML3t5VWodLC7YoMknu', is_error=False)]), TextMessage(id='be128d36-208a-4c8c-8b71-37723e28a097', source='PlanningAgent', models_usage=RequestUsage(prompt_tokens=558, completion_tokens=65), metadata={}, created_at=datetime.datetime(2025, 7, 19, 3, 1, 8, 238321, tzinfo=datetime.timezone.utc), content=\"Great, now we have the necessary information. Let's proceed to calculate the percentage change in total rebounds.\\n\\n1. DataAnalystAgent: Calculate the percentage change in Dwyane Wade's total rebounds from the 2007-2008 season (214 rebounds) to the 2008-2009 season (398 rebounds).\", type='TextMessage'), ToolCallRequestEvent(id='4ef12413-ca7a-4067-b4f6-9bebccbaa673', source='DataAnalystAgent', models_usage=RequestUsage(prompt_tokens=625, completion_tokens=20), metadata={}, created_at=datetime.datetime(2025, 7, 19, 3, 1, 10, 179752, tzinfo=datetime.timezone.utc), content=[FunctionCall(id='call_ifzABgTSAC6vCAoY9MYItciU', arguments='{\"start\":214,\"end\":398}', name='percentage_change_tool')], type='ToolCallRequestEvent'), ToolCallExecutionEvent(id='9676dacb-9c77-4473-922e-14e88557734e', source='DataAnalystAgent', models_usage=None, metadata={}, created_at=datetime.datetime(2025, 7, 19, 3, 1, 10, 180810, tzinfo=datetime.timezone.utc), content=[FunctionExecutionResult(content='85.98130841121495', name='percentage_change_tool', call_id='call_ifzABgTSAC6vCAoY9MYItciU', is_error=False)], type='ToolCallExecutionEvent'), ToolCallSummaryMessage(id='f8b0e987-1140-4453-b622-b6e4761effc1', source='DataAnalystAgent', models_usage=None, metadata={}, created_at=datetime.datetime(2025, 7, 19, 3, 1, 10, 180909, tzinfo=datetime.timezone.utc), content='85.98130841121495', type='ToolCallSummaryMessage', tool_calls=[FunctionCall(id='call_ifzABgTSAC6vCAoY9MYItciU', arguments='{\"start\":214,\"end\":398}', name='percentage_change_tool')], results=[FunctionExecutionResult(content='85.98130841121495', name='percentage_change_tool', call_id='call_ifzABgTSAC6vCAoY9MYItciU', is_error=False)]), TextMessage(id='c0253891-e32f-4667-abb5-b032c27ec9c5', source='PlanningAgent', models_usage=RequestUsage(prompt_tokens=643, completion_tokens=96), metadata={}, created_at=datetime.datetime(2025, 7, 19, 3, 1, 11, 733545, tzinfo=datetime.timezone.utc), content=\"The percentage change in Dwyane Wade's total rebounds from the 2007-2008 season to the 2008-2009 season is approximately 85.98%. \\n\\nIn summary, Dwyane Wade was the top scorer for the Miami Heat in the 2006-2007 season, and his total rebounds increased by approximately 85.98% from the 2007-2008 season to the 2008-2009 season.\\n\\nTERMINATE\", type='TextMessage')], stop_reason=\"Text 'TERMINATE' mentioned\")"
      ]
     },
     "execution_count": 17,
     "metadata": {},
     "output_type": "execute_result"
    }
   ],
   "source": [
    "# With real web search\n",
    "task = \"Who was the Miami Heat player with the highest point in the 2006-2007 season, and what was the percentage change in his total rebounds between the 2007-2008 and 2008-2009 seasons?\"\n",
    "\n",
    "from autogen_agentchat.ui import Console\n",
    "\n",
    "await Console(selector_team.run_stream(task=task))"
   ]
  },
  {
   "cell_type": "code",
   "execution_count": null,
   "id": "11cb8321",
   "metadata": {},
   "outputs": [],
   "source": []
  }
 ],
 "metadata": {
  "kernelspec": {
   "display_name": ".venv (3.12.9)",
   "language": "python",
   "name": "python3"
  },
  "language_info": {
   "codemirror_mode": {
    "name": "ipython",
    "version": 3
   },
   "file_extension": ".py",
   "mimetype": "text/x-python",
   "name": "python",
   "nbconvert_exporter": "python",
   "pygments_lexer": "ipython3",
   "version": "3.12.9"
  }
 },
 "nbformat": 4,
 "nbformat_minor": 5
}
